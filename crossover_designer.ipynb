{
 "cells": [
  {
   "cell_type": "markdown",
   "metadata": {},
   "source": [
    "The block below will generate a crossover network"
   ]
  },
  {
   "cell_type": "code",
   "execution_count": null,
   "metadata": {},
   "outputs": [],
   "source": [
    "%run \"fir_crossover_taps_generator.py\" -fc 270 -Bt 460 -Aa 80 -fs 48000"
   ]
  },
  {
   "cell_type": "markdown",
   "metadata": {},
   "source": [
    "The block below will plot a generated crossover network"
   ]
  },
  {
   "cell_type": "code",
   "execution_count": null,
   "metadata": {},
   "outputs": [],
   "source": [
    "import numpy as np\n",
    "import pandas as pd\n",
    "import scipy.signal as signal\n",
    "pd.options.plotting.backend = 'plotly'\n",
    "\n",
    "#Set sampling frequency\n",
    "fs = 48000\n",
    "\n",
    "#Read data\n",
    "h_lp = np.genfromtxt('../data/lowpass_crossover.txt')\n",
    "h_lp_fxp = np.genfromtxt('../data/lowpass_crossover_fxp.txt')*2**-15\n",
    "h_hp = np.genfromtxt('../data/highpass_crossover.txt')\n",
    "h_hp_fxp = np.genfromtxt('../data/highpass_crossover_fxp.txt')*2**-15\n",
    "\n",
    "# Graph controls\n",
    "dB = True\n",
    "logX = False\n",
    "\n",
    "#Drawing the filter\n",
    "f, H_lp = signal.freqz(h_lp, 1, worN = 2**14, fs = fs)\n",
    "f, H_lp_fxp = signal.freqz(h_lp_fxp, 1, worN = 2**14, fs = fs)\n",
    "f, H_hp = signal.freqz(h_hp, 1, worN = 2**14, fs = fs)\n",
    "f, H_hp_fxp = signal.freqz(h_hp_fxp, 1, worN = 2**14, fs = fs)\n",
    "\n",
    "#Filter dataframe\n",
    "df = pd.DataFrame(\n",
    "    {\n",
    "        'Low pass': abs(H_lp) if not dB else 20*np.log10(abs(H_lp)), \n",
    "        'Low pass fxp': abs(H_lp_fxp) if not dB else 20*np.log10(abs(H_lp_fxp)), \n",
    "        'High pass': abs(H_hp) if not dB else 20*np.log10(abs(H_hp)),\n",
    "        'High pass fxp': abs(H_hp_fxp) if not dB else 20*np.log10(abs(H_hp_fxp)),\n",
    "        'Sum' : abs(H_hp+H_lp) if not dB else 20*np.log10(abs(H_hp+H_lp)),\n",
    "        'Sum fxp' : abs(H_hp_fxp+H_lp_fxp) if not dB else 20*np.log10(abs(H_hp_fxp+H_lp_fxp)),\n",
    "    }\n",
    ").set_index(f)\n",
    "\n",
    "#Plotting \n",
    "fig = df.plot(\n",
    "    labels = dict(index='Frequency', value='Magnitude', variable='Filter'), \n",
    "    template='plotly_dark',\n",
    "    log_x=logX\n",
    ")\n",
    "\n",
    "#Formating\n",
    "fig.update_layout(\n",
    "    title = 'Crossover filters',\n",
    "    xaxis = dict(ticksuffix='Hz', range=[20, 20000] if not logX else [np.log10(20), np.log10(20000)]),\n",
    "    yaxis = dict(ticksuffix='dB') if dB else dict(ticksuffix=''),\n",
    ")\n",
    "fig"
   ]
  }
 ],
 "metadata": {
  "kernelspec": {
   "display_name": ".venv",
   "language": "python",
   "name": "python3"
  },
  "language_info": {
   "codemirror_mode": {
    "name": "ipython",
    "version": 3
   },
   "file_extension": ".py",
   "mimetype": "text/x-python",
   "name": "python",
   "nbconvert_exporter": "python",
   "pygments_lexer": "ipython3",
   "version": "3.11.3"
  }
 },
 "nbformat": 4,
 "nbformat_minor": 2
}
